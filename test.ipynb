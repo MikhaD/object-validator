{
 "cells": [
  {
   "cell_type": "code",
   "execution_count": 10,
   "metadata": {},
   "outputs": [
    {
     "name": "stdout",
     "output_type": "stream",
     "text": [
      "True <class 'typing._UnionGenericAlias'>\n",
      "True <class 'types.UnionType'>\n"
     ]
    }
   ],
   "source": [
    "from types import GenericAlias, UnionType\n",
    "from typing import Union, _UnionGenericAlias\n",
    "\n",
    "\n",
    "t = Union[int, bool, list]\n",
    "tt = int | bool | list\n",
    "\n",
    "print(isinstance(t, _UnionGenericAlias), type(t))\n",
    "print(isinstance(tt, UnionType), type(tt))"
   ]
  },
  {
   "cell_type": "code",
   "execution_count": 8,
   "metadata": {},
   "outputs": [
    {
     "name": "stdout",
     "output_type": "stream",
     "text": [
      "False\n",
      "False\n"
     ]
    }
   ],
   "source": [
    "from validate import is_type\n",
    "\n",
    "print(is_type(1, int | bool | list))"
   ]
  }
 ],
 "metadata": {
  "kernelspec": {
   "display_name": "Python 3.10.4 64-bit",
   "language": "python",
   "name": "python3"
  },
  "language_info": {
   "codemirror_mode": {
    "name": "ipython",
    "version": 3
   },
   "file_extension": ".py",
   "mimetype": "text/x-python",
   "name": "python",
   "nbconvert_exporter": "python",
   "pygments_lexer": "ipython3",
   "version": "3.10.4"
  },
  "orig_nbformat": 4,
  "vscode": {
   "interpreter": {
    "hash": "a468216b390d8086c6e68ce635f893df89c6726f4c4bec2701d169cb44bcbe63"
   }
  }
 },
 "nbformat": 4,
 "nbformat_minor": 2
}
